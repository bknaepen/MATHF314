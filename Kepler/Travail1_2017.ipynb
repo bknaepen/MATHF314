{
 "cells": [
  {
   "cell_type": "markdown",
   "metadata": {},
   "source": [
    "# Kepler et Runge-Kutta 4"
   ]
  },
  {
   "cell_type": "markdown",
   "metadata": {},
   "source": [
    "# Travail personnel 1, MATH-F-314, Année académique 2017-2018"
   ]
  },
  {
   "cell_type": "markdown",
   "metadata": {},
   "source": [
    "## Contexte"
   ]
  },
  {
   "cell_type": "markdown",
   "metadata": {},
   "source": [
    "Sous l'effet de la force de pesanteur, deux masses $m_1$ et $m_2$ s'attirent avec des forces mutuellement opposées selon la loi de Newton:\n",
    "\n",
    "$${\\bf F}_{1,2}=-{\\bf F}_{2,1}=-\\frac{Gm_1 m_2{\\bf r}}{r^3}$$"
   ]
  },
  {
   "cell_type": "markdown",
   "metadata": {},
   "source": [
    "<img src=\"figs/forces.png\" alt=\"Drawing\" style=\"width: 300px;\"/>"
   ]
  },
  {
   "cell_type": "markdown",
   "metadata": {},
   "source": [
    "Dans l'expression des forces, ${\\bf r}$ est le vecteur qui relie le centre de $m_2$ à celui de $m_1$ et $G=6.67408\\cdot 10^{-11} {\\rm m^3 kg^{−1}s^{−2}}$."
   ]
  },
  {
   "cell_type": "markdown",
   "metadata": {},
   "source": [
    "Si les deux masses ne sont sommises qu'à ces forces de pesanteur, leur mouvement relatif sera une section de conique (ellipse, parabole ou hyperbole) dont la nature dépendra des conditions initiales. Dans le cas du système Terre-Lune, celle-ci est une ellipse dont l'équation est:"
   ]
  },
  {
   "cell_type": "markdown",
   "metadata": {},
   "source": [
    "<img src=\"figs/ellipse.png\" alt=\"Drawing\" style=\"width: 400px;\"/>"
   ]
  },
  {
   "cell_type": "markdown",
   "metadata": {},
   "source": [
    "$$r(\\theta)=\\frac{r_{min}(1+\\epsilon)}{1+\\epsilon \\cos\\theta}.$$ \n",
    "\n",
    "Dans l'équation ci-dessus, $r_{min}$ est la distance minimale Terre-Lune (périgée) et $\\epsilon$ est l'excentricité de l'orbite. Ici on prendra,\n",
    "\n",
    "$$r_{min}=362600 {\\rm km} \\\\ \\epsilon = 0.0549006 \\\\ m_{\\rm terre}=5.972\\cdot 10^{24} {\\rm kg} \\\\ m_{\\rm lune}=7.348\\cdot 10^{22} {\\rm kg}$$ "
   ]
  },
  {
   "cell_type": "markdown",
   "metadata": {},
   "source": [
    "Par ailleurs, on indique qu'au périgée de la trajectoire, la lune se déplace par rapport à la terre à une vitesse de $1083.434974 {\\rm ms^{-1}}$."
   ]
  },
  {
   "cell_type": "markdown",
   "metadata": {},
   "source": [
    "## Questions"
   ]
  },
  {
   "cell_type": "markdown",
   "metadata": {},
   "source": [
    "1) Résoudre les équations du mouvement sous l'effet des forces de pesanteur décrites ci-dessus et montrer que la trajectoire est bien une ellispe avec la bonne excentricité. Indice: placez-vous directement dans le repère attaché à la Terre et écrivez l'équation d'évolution pour ${\\bf r}$.\n",
    "\n",
    "La résolution numérique du problème doit se faire avec la méthode numérique 'Runge-Kutta 4' que vous trouverez ici:\n",
    "\n",
    "https://en.wikipedia.org/wiki/Runge–Kutta_methods#The_Runge.E2.80.93Kutta_method\n",
    "\n",
    "et les résultats présentés doivent être obtenus avec un pas de temps de $dt=1s$.\n",
    "\n",
    "2) Que vaut le demi grand axe a et le demi grand axe b selon vos calculs?\n",
    "\n",
    "3) Que vaut la période de l'orbite?\n",
    "\n",
    "4) Quel est l'ordre de la méthode numérique utilisée (faite une représentation graphique comme celle discutée dans les modules du cours)?\n",
    "\n",
    "5) Au moment du passage de la lune à l'appogée de sa trajectoire, un astéroïde traverse le centre de l'ellipse avec une vitesse $(v_x,v_y)=(-500{\\rm m/s},500 {\\rm m/s})$ (mesurée toujours par rapport à la terre). Modifier votre code numérique pour calculer la position de cet astéroïde après 14 jours. On suppose que l'astéroïde est dévié par le systeme Terre-Lune mais que celui-ci est trop léger pour modifier la trajectoire de la terre ou de la lune.\n",
    "\n",
    "6) Faites une animation graphique des différentes trajectoires que vous obtenez.\n",
    "\n",
    "\n",
    "Dans la mesure du possible, pour 1-3, vérifiez vos réponses en vous basant sur le calcul théorique de la trajectoire."
   ]
  },
  {
   "cell_type": "markdown",
   "metadata": {},
   "source": [
    "## Remarques"
   ]
  },
  {
   "cell_type": "markdown",
   "metadata": {},
   "source": [
    "Les recommendations à suivre pour la rédaction ce travail personnel (à réaliser en binôme) se trouvent à l'adresse suivante:\n",
    "\n",
    "http://aqua4.ulb.ac.be/~bknaepen/MATHF314/Evaluation314.html\n",
    "\n",
    "\n",
    "En remettant leur travail, les étudiants reconnaissent avoir pris connaissance de ces recommendations."
   ]
  },
  {
   "cell_type": "code",
   "execution_count": null,
   "metadata": {
    "collapsed": true
   },
   "outputs": [],
   "source": []
  }
 ],
 "metadata": {
  "kernelspec": {
   "display_name": "Python 3",
   "language": "python",
   "name": "python3"
  },
  "language_info": {
   "codemirror_mode": {
    "name": "ipython",
    "version": 3
   },
   "file_extension": ".py",
   "mimetype": "text/x-python",
   "name": "python",
   "nbconvert_exporter": "python",
   "pygments_lexer": "ipython3",
   "version": "3.6.0"
  }
 },
 "nbformat": 4,
 "nbformat_minor": 2
}
