{
 "cells": [
  {
   "cell_type": "markdown",
   "metadata": {},
   "source": [
    "### Remarques\n",
    "1. Nous sommes dans un cas paramagnétique.\n",
    "2. Attention pê développement multipolaire?\n",
    "3. A cause du coeur supraconducteur, le champ magnéique sera moins intense!\n",
    "4. $ \\mathbf{\\nabla} \\times \\mathbf{B} = \\mu \\mathbf{J}$ dans le cas paramagnétique!\n",
    "5. Le champ n'est pas toujours uniforme, même si ce cas semble s'apparenter à un solénoïde!\n",
    "6. Voir leçons 4_3, 4_4 et pê 3_4\n",
    "7. Il faut déterminer le moment où le champ B sera uniforme (condition d'arrêt du code).\n",
    "8. Condition initiale pour B? B_0 = mu\n",
    "9. Ne peut-on pas considérer cette brusque apparition de B comme une sorte de choc?\n",
    "10. Exploiter les symétries?\n",
    "11. Stabilité!! \n",
    "12. N'y a-t-il pas une durée pendant laquelle le conducteur n'est plus à l'équilibre? Donc E à l'intérieur toujours nul? Pris en compte par Faraday\n",
    "13. Loi de Faraday pendant ce temps? La négliger puisque le changement semble instantané? Déjà prise en compte!"
   ]
  },
  {
   "cell_type": "markdown",
   "metadata": {
    "collapsed": true
   },
   "source": [
    "## Equation de diffusion du champ magnétique"
   ]
  },
  {
   "cell_type": "markdown",
   "metadata": {},
   "source": [
    "En reprenant les équations de Maxwell suivantes, nous pouvons montrer que le champ magnétique $\\mathbf{B}$ obéit à une équation de diffusion. En se rappelant la loi d'Ohm $\\mathbf{J} = \\sigma \\mathbf{E}$,\n",
    "$$\\nabla \\times {\\bf E} = -\\partial_t {\\bf B}\\\\\n",
    "\\nabla \\times {\\bf B} =\\mu_0 {\\bf J}\\\\\n",
    "\\nabla \\cdot {\\bf B}=0\n",
    "$$\n",
    "ensuite en subsituant $\\mathbf{E}$ par $\\dfrac{\\mathbf{J}}{\\sigma}$  puis $\\mathbf{J}$ par $\\dfrac{1}{\\mu_0} \\nabla \\times {\\bf B}$ dans le première équation, et en sachant que $\\nabla \\times(\\nabla \\times {\\bf B}) = \\nabla (\\nabla \\cdot {\\bf B}) - \\Delta \\mathbf{B} = - \\Delta \\mathbf{B}$, nous obtenons l'équation de diffusion:\n",
    "$$ \\partial_t \\bf{B} - \\dfrac{1}{\\sigma \\mu_0} \\Delta B = 0$$"
   ]
  },
  {
   "cell_type": "markdown",
   "metadata": {},
   "source": [
    "## Description du problème et conditions aux bords"
   ]
  },
  {
   "cell_type": "markdown",
   "metadata": {
    "collapsed": true
   },
   "source": [
    "<img src='./figures/diagram.png' width='400px'>\n",
    "\n",
    "#### Figure 1: Schéma de la géométrie considérée. Le conducteur est homogène et infini dans la direction z."
   ]
  },
  {
   "cell_type": "markdown",
   "metadata": {},
   "source": [
    "La zone sur laquelle nous allons résoudre l'équation diffusion du champ magnétique est la région grisée (ouverte) sur la Figure 1. Comme le problème est symétrique selon z, nous allons résoudre l'équation sur une tranche (bidimentionelle, orthogonale à la direction z) de la région grise. De plus, toujours à cause de la symétrie selon z, tous les courants dans le problème seront toujours de composante z nulle. Par conséquent, le champ magnétique est en tout instant et en tout point orienté selon z et nous allons donc résoudre l'équation pour la composante $B_z = |\\mathbf{B}|$ uniquement."
   ]
  },
  {
   "cell_type": "markdown",
   "metadata": {},
   "source": [
    "Notons que le bord de la région grisée se sépare en deux parties: les contours des carrés de 0.5 et 1.5cm de côtés (que nous appellerons bords internes et externes, respectivement). Le bord externe est parcouru par un courant total de surface $J=1A/m$, nous pouvons alors calculer le champ magnétique produit dans un voisinage infinitésimal d'un point du bord avec une boucle d'ampère rectangulaire orthogonale au courant, traversée par celui-ci et avec deux côtés de longueur quelconque $L$ orientés selon z et deux côtés de longueur infinitésimale orthogonaux à l'axe z. Nous trouvons: \n",
    "\n",
    "$$ B\\times L = \\oint \\mathbf B\\cdot d\\mathbf l = \\iint (\\nabla \\times \\mathbf B) \\cdot d\\mathbf S = \\iint \\mu_0\\mathbf J \\cdot d\\mathbf S = \\mu_0 J\\times L $$\n",
    "$$ B = \\mu_0 J = \\mu_0 \\times 1 A/m $$\n",
    "\n",
    "Ceci donne la valeur du champ magnétique à une distance infitésimalement proche du bord, qui prend donc cette valeur fixe immédiatement après que le courant passe à $1A/m$. Cela nous donne une condition de Dirichlet pour le bord externe."
   ]
  },
  {
   "cell_type": "markdown",
   "metadata": {},
   "source": [
    "Concernant le bord interne, nous pouvons nous guider avec l'analogie de la chaleur dans laquelle la composante $B_z$ du champ magnétique est la température. Cette analogie est rigoureuse mathématiquement car dans les deux cas nous avons la même équation pour un champ scalaire. Pour trouver la condition sur le bord interne, il faut remarquer que le supraconducteur est caractérisé par une conductivité électrique infinie et que cela implique que la constante $1/\\mu\\sigma$ est nulle dans ce milieu. Le champ magnétique conserve donc sa valeur initiale, fixée à $0$, car \n",
    "$$ \\partial_t \\mathbf{B} = \\frac{1}{\\mu_0\\sigma} \\mathbf{\\Delta} \\mathbf{B} = 0$$\n",
    "Le supraconducteur se comporte donc comme un isolant thermique dans l'analogie de la chaleur (sa température met un temps infini à augmenter). La condition au bord dans ce cas est que le flux de chaleur vers l'isolant est nul, autrement dit, par la loi de Fourier, que le produit scalaire entre le gradient de la température et la normale au côté du carré est nul sur le bord interne. Nous avons donc la condition de Neumann $(\\nabla B)\\cdot \\mathbf n = 0$ pour le bord interne. Une démonstration immédiate de ce résultat qui n'utilise pas la loi de Fourier peut aussi être faite avec le théorème de flux-divergence et le lemme de Du Bois-Reymond, mais on perd alors l'essence physique du problème."
   ]
  },
  {
   "cell_type": "markdown",
   "metadata": {},
   "source": [
    "## Evolution au cours du temps - Méthode d'Euler"
   ]
  },
  {
   "cell_type": "code",
   "execution_count": 1,
   "metadata": {
    "collapsed": true
   },
   "outputs": [],
   "source": [
    "import numpy\n",
    "from matplotlib import pyplot\n",
    "%matplotlib inline\n",
    "from matplotlib import rcParams, cm\n",
    "rcParams['font.family'] = 'serif'\n",
    "rcParams['font.size'] = 16"
   ]
  },
  {
   "cell_type": "markdown",
   "metadata": {},
   "source": [
    "Il nous implémentons le champ magnétique dans une matrice $(N+1) \\times (N-M)$."
   ]
  },
  {
   "cell_type": "code",
   "execution_count": 2,
   "metadata": {},
   "outputs": [
    {
     "name": "stdout",
     "output_type": "stream",
     "text": [
      "dt_max = 2.8851512874803634e-07\n",
      "nt = 5001\n"
     ]
    }
   ],
   "source": [
    "sigma = 5.96*10**7\n",
    "mu = 1.26*10**-6\n",
    "\n",
    "# parametres\n",
    "T = 0.00125\n",
    "L = 0.015\n",
    "N = 60\n",
    "\n",
    "dx = L/(2*N+1)\n",
    "dt_max = 1/4*(sigma*mu)*dx**2   # condition de stabilité\n",
    "\n",
    "print(\"dt_max =\", dt_max)\n",
    "\n",
    "dt = 2.5*10**-7    # imposé\n",
    "nt = int(T/dt)+1\n",
    "M = 20 #int(N/3)\n",
    "\n",
    "print(\"nt =\", nt)\n",
    "\n",
    "B0 = numpy.zeros((N-M+2,N+3))   # condition initiale\n",
    "B0[0,:] = mu*numpy.ones(N+3)   # condition au bord de Dirichlet"
   ]
  },
  {
   "cell_type": "markdown",
   "metadata": {},
   "source": [
    "Nous vérifions que le pas de temps imposé est bien inférieur au pas de temps maximal nécessaire pour que le calcul soit stable."
   ]
  },
  {
   "cell_type": "code",
   "execution_count": 3,
   "metadata": {
    "collapsed": true
   },
   "outputs": [],
   "source": [
    "def matrix_extent(B): \n",
    "    \n",
    "    B[:-1,N+2] = B[:-1,N]\n",
    "    \n",
    "    for i in range(1,N-M+1):\n",
    "        \n",
    "        B[i+1,i] = B[i,i+1]"
   ]
  },
  {
   "cell_type": "code",
   "execution_count": 4,
   "metadata": {
    "collapsed": true
   },
   "outputs": [],
   "source": [
    "def evolution(B0, nt, dt, dx):\n",
    "    \n",
    "    B = B0.copy()\n",
    "    \n",
    "    for n in range(nt):\n",
    "        \n",
    "        Bn = B.copy()\n",
    "        Bn[-1,:] = Bn[-2,:]   # condition de Neumann (dérivée nulle)\n",
    "        matrix_extent(B)      # symétrie\n",
    "        \n",
    "        for i in range(1,N-M+1):\n",
    "            for j in range(i,N+2):\n",
    "                \n",
    "                B[i,j] = Bn[i,j] + 1/(mu*sigma)*\\\n",
    "                (dt/dx**2 * (Bn[i+1,j] - 2*Bn[i,j] + Bn[i-1,j]) +\\\n",
    "                 dt/dx**2 * (Bn[i,j+1]- 2*Bn[i,j] + Bn[i,j-1]))\n",
    "                \n",
    "    return B"
   ]
  },
  {
   "cell_type": "code",
   "execution_count": 5,
   "metadata": {
    "scrolled": true
   },
   "outputs": [],
   "source": [
    "B_nonphys = evolution(B0, nt, dt, dx)\n",
    "\n",
    "# retire les valeurs qui n'ont pas de sens physique (les bords et la sous-diagonale )\n",
    "B = B_nonphys.copy()[1:-1,1:-1]\n",
    "for i in range (1,N-M):\n",
    "    B[i,i-1] = 0"
   ]
  },
  {
   "cell_type": "markdown",
   "metadata": {},
   "source": [
    "### Visualisation du pavé élémentaire"
   ]
  },
  {
   "cell_type": "code",
   "execution_count": 6,
   "metadata": {},
   "outputs": [
    {
     "data": {
      "image/png": "[encoded data removed]",
      "text/plain": [
       "<matplotlib.figure.Figure at 0x7feffd83b390>"
      ]
     },
     "metadata": {},
     "output_type": "display_data"
    }
   ],
   "source": [
    "x = numpy.linspace(0,dx*(N+1),N+1)\n",
    "y = numpy.linspace(dx*(N-M),0,N-M)\n",
    "\n",
    "pyplot.figure(figsize=(8,5))\n",
    "pyplot.contourf(x,y,B,20,cmap=cm.viridis)\n",
    "pyplot.xlabel('$x$')\n",
    "pyplot.ylabel('$y$')\n",
    "pyplot.colorbar();"
   ]
  },
  {
   "cell_type": "markdown",
   "metadata": {},
   "source": [
    "##  Reconstruction de la figure symétrique et visualisation globale"
   ]
  },
  {
   "cell_type": "code",
   "execution_count": 7,
   "metadata": {
    "collapsed": true
   },
   "outputs": [],
   "source": [
    "def recompose(B):\n",
    "    \n",
    "    B_paire = B[:,:-1]\n",
    "    l = len(B_paire[0,:]) # N\n",
    "    k = len(B_paire[:,0]) # N-M\n",
    "    B_complet = numpy.zeros((2*l+1,2*l+1))\n",
    "    \n",
    "    #agrandir le pavé élémentaire pour avoir une matrice carrée (B1)\n",
    "    extra = numpy.zeros((l-k,l))\n",
    "    B1 = numpy.concatenate((B_paire,extra),axis=0)\n",
    "    \n",
    "    #transposer et additionner pour avoir les bonnes valeurs dans le triangle inférieur\n",
    "    B1_t = numpy.transpose(B1)\n",
    "    B2 = B1_t + B1\n",
    "    for i in range(0,l-1):  \n",
    "        B2[i,i] = B2[i,i]/2\n",
    "    \n",
    "    B_complet[0:l,0:l] = B2\n",
    "    \n",
    "    #symétrie d'axe Ox \n",
    "    B_complet[l+1::,0:l] = numpy.flipud(B2)\n",
    "    \n",
    "    #symétrie d'axe Oy partie haut\n",
    "    B_complet[0:l,l+1::] = numpy.fliplr(B2)\n",
    "    \n",
    "    #symétrie d'axe Oy partie bas\n",
    "    B_complet[l+1::,l+1::] = numpy.fliplr(B_complet[l+1::,0:l])\n",
    "    \n",
    "    #insertion des lignes et colonnes centrales # vivent les multiples de 2\n",
    "    B_complet[0:k,l] = B[:,-1]\n",
    "    B_complet[2*l+1-k:2*l+1,l] = numpy.flipud(B[:,-1])\n",
    "    B_complet[l,0:k] = numpy.transpose(B[:,-1])\n",
    "    B_complet[l,2*l+1-k:2*l+1] = numpy.flipud(numpy.transpose(B[:,-1]))\n",
    "    \n",
    "    return B_complet"
   ]
  },
  {
   "cell_type": "code",
   "execution_count": 8,
   "metadata": {},
   "outputs": [],
   "source": [
    "B_complet = recompose(B)"
   ]
  },
  {
   "cell_type": "code",
   "execution_count": 9,
   "metadata": {},
   "outputs": [
    {
     "data": {
      "image/png": "[encoded data removed]",
      "text/plain": [
       "<matplotlib.figure.Figure at 0x7feff5929390>"
      ]
     },
     "metadata": {},
     "output_type": "display_data"
    }
   ],
   "source": [
    "x = numpy.linspace(0,1,2*N+1)\n",
    "y = numpy.linspace(1,0,2*N+1)\n",
    "\n",
    "pyplot.figure(figsize=(8,5))\n",
    "pyplot.contourf(x,y,B_complet,20,cmap=cm.viridis)\n",
    "pyplot.xlabel('$x$')\n",
    "pyplot.ylabel('$y$')\n",
    "pyplot.colorbar();"
   ]
  },
  {
   "cell_type": "markdown",
   "metadata": {},
   "source": [
    "##  Extraction des valeurs demandées pour $\\mathbf B$ et $\\mathbf J$"
   ]
  },
  {
   "cell_type": "code",
   "execution_count": 10,
   "metadata": {},
   "outputs": [
    {
     "name": "stdout",
     "output_type": "stream",
     "text": [
      "La valeur du champ magnétique en (2.5e-3 m, 2.5e-3 m, 0m) après 1.25e-3 s est : 1.166610086e-06 T\n"
     ]
    }
   ],
   "source": [
    "xIndex = int(2.5*10**-3/dx)\n",
    "yIndex = int((1.5*10**-2 - 2.5*10**-3)/dx)\n",
    "\n",
    "print(\"La valeur du champ magnétique en (2.5e-3 m, 2.5e-3 m, 0m) après 1.25e-3 s est :\", B_complet[xIndex,yIndex], \"T\")"
   ]
  },
  {
   "cell_type": "markdown",
   "metadata": {},
   "source": [
    "Pour calculer le courant à cet endroit, nous allons calculer le rotationnel à l'aide d'une dérivée discrète. Le rotationnel de $\\mathbf B$ est donné par \n",
    "\n",
    "$$\\nabla\\times\\mathbf B = \\partial _y B \\ \\mathbf u_x - \\partial _x B \\ \\mathbf u_y \\qquad B:=B_z$$\n",
    "\n",
    "Et s'approxime donc en (i,j) par\n",
    "\n",
    "$$ \\nabla\\times\\mathbf B = \\frac{B[i-1,j]-B[i+1,j]}{2\\Delta y}\\ \\mathbf u_x + \\frac{B[i,j+1]-B[i,j-1]}{2\\Delta x}\\ \\mathbf u_y$$"
   ]
  },
  {
   "cell_type": "code",
   "execution_count": 11,
   "metadata": {},
   "outputs": [
    {
     "name": "stdout",
     "output_type": "stream",
     "text": [
      "La valeur de la densité de courant électrique en (2.5e-3 m, 2.5e-3 m, 0 m) après 1.25e-3 s est : \n",
      " [ 23.52071091  23.52071091   0.        ] A/m^2\n"
     ]
    }
   ],
   "source": [
    "rotB = numpy.zeros(3)\n",
    "rotB[0] = (B_complet[xIndex-1,yIndex] - B_complet[xIndex+1,yIndex])/2/dx\n",
    "rotB[1] = (B_complet[xIndex,yIndex+1] - B_complet[xIndex,yIndex-1])/2/dx\n",
    "\n",
    "currentDensity = 1/mu*rotB\n",
    "\n",
    "print(\"La valeur de la densité de courant électrique en (2.5e-3 m, 2.5e-3 m, 0 m) après 1.25e-3 s est : \\n\", currentDensity, \"A/m^2\")"
   ]
  },
  {
   "cell_type": "markdown",
   "metadata": {},
   "source": [
    "##  Extraction des valeurs demandées pour le flux de $\\mathbf B$"
   ]
  },
  {
   "cell_type": "code",
   "execution_count": 12,
   "metadata": {
    "collapsed": true
   },
   "outputs": [],
   "source": [
    "T = 0.0125\n",
    "nt = int(T/dt)+1\n",
    "\n",
    "B0 = numpy.zeros((N-M+2,N+3))   # condition initiale\n",
    "B0[0,:] = mu*numpy.ones(N+3)   # condition au bord de Dirichlet"
   ]
  },
  {
   "cell_type": "code",
   "execution_count": 13,
   "metadata": {
    "collapsed": true
   },
   "outputs": [],
   "source": [
    "B_nonphys = evolution(B0, nt, dt, dx)\n",
    "\n",
    "# retire les valeurs qui n'ont pas de sens physique (les bords et la sous-diagonale )\n",
    "B = B_nonphys.copy()[1:-1,1:-1]\n",
    "for i in range (1,N-M):\n",
    "    B[i,i-1] = 0"
   ]
  },
  {
   "cell_type": "code",
   "execution_count": 14,
   "metadata": {
    "collapsed": true
   },
   "outputs": [],
   "source": [
    "B_complet = recompose(B)"
   ]
  },
  {
   "cell_type": "code",
   "execution_count": 15,
   "metadata": {},
   "outputs": [
    {
     "data": {
      "image/png": "[encoded data removed]",
      "text/plain": [
       "<matplotlib.figure.Figure at 0x7feff5777630>"
      ]
     },
     "metadata": {},
     "output_type": "display_data"
    }
   ],
   "source": [
    "x = numpy.linspace(0,1,2*N+1)\n",
    "y = numpy.linspace(1,0,2*N+1)\n",
    "\n",
    "pyplot.figure(figsize=(8,5))\n",
    "pyplot.contourf(x,y,B_complet,20,cmap=cm.viridis)\n",
    "pyplot.xlabel('$x$')\n",
    "pyplot.ylabel('$y$')\n",
    "pyplot.colorbar();"
   ]
  },
  {
   "cell_type": "markdown",
   "metadata": {},
   "source": [
    "Nous obtenons le flux en sommant la valeur de $B$ sur chaque élément de surface et en pondérant par l'aire de cet élément."
   ]
  },
  {
   "cell_type": "code",
   "execution_count": 16,
   "metadata": {},
   "outputs": [
    {
     "name": "stdout",
     "output_type": "stream",
     "text": [
      "Le flux du champ magnétique à travers la section z=0 du conducteur vaut : 2.50736831474e-10 Tm^2\n"
     ]
    }
   ],
   "source": [
    "flux = 0\n",
    "\n",
    "for i in range(N):\n",
    "    \n",
    "    flux += 4*B_complet[i,i]\n",
    "    flux += 4*B_complet[i,N]\n",
    "    \n",
    "    for j in range(i+1,N):\n",
    "        \n",
    "        flux += 8*B_complet[i,j]\n",
    "        \n",
    "flux = flux*dx**2\n",
    "\n",
    "print(\"Le flux du champ magnétique à travers la section z=0 du conducteur vaut :\", flux, \"Tm^2\")"
   ]
  },
  {
   "cell_type": "markdown",
   "metadata": {},
   "source": [
    "Nous pouvons comparer cela à la valeur théorique du flux une fois que le champ magnétique est totalement diffusé (uniforme, égal à $\\mu(1 A/m^2)$), qui vaut\n",
    "\n",
    "$$ flux = BS = \\mu(1 A/m^2)(1.5^2-0.5^2)\\times 10^{-4}m^2 = 2.52\\times 10^{-10} Tm^2$$\n",
    "\n",
    "Ce qui est comme attendu à peine plus élevé du flux trouvé numériquement pour le champ magnétique presque entièrement diffusé."
   ]
  },
  {
   "cell_type": "code",
   "execution_count": null,
   "metadata": {
    "collapsed": true
   },
   "outputs": [],
   "source": []
  }
 ],
 "metadata": {
  "kernelspec": {
   "display_name": "Python 3",
   "language": "python",
   "name": "python3"
  },
  "language_info": {
   "codemirror_mode": {
    "name": "ipython",
    "version": 3
   },
   "file_extension": ".py",
   "mimetype": "text/x-python",
   "name": "python",
   "nbconvert_exporter": "python",
   "pygments_lexer": "ipython3",
   "version": "3.6.2"
  }
 },
 "nbformat": 4,
 "nbformat_minor": 2
}
