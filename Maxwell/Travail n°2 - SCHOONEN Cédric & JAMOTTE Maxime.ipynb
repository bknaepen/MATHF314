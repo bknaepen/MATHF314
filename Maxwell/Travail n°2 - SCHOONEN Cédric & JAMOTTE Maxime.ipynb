{
 "cells": [
  {
   "cell_type": "markdown",
   "metadata": {},
   "source": [
    "### Remarques\n",
    "1. Nous sommes dans un cas paramagnétique.\n",
    "2. Attention pê développement multipolaire?\n",
    "3. A cause du coeur supraconducteur, le champ magnéique sera moins intense!\n",
    "4. $ \\mathbf{\\nabla} \\times \\mathbf{B} = \\mu \\mathbf{J}$ dans le cas paramagnétique!\n",
    "5. Le champ n'est pas toujours uniforme, même si ce cas semble s'apparenter à un solénoïde!\n",
    "6. Voir leçons 4_3, 4_4 et pê 3_4\n",
    "7. Il faut déterminer le moment où le champ B sera uniforme (condition d'arrêt du code).\n",
    "8. Condition initiale pour B? B_0 = mu\n",
    "9. Ne peut-on pas considérer cette brusque apparition de B comme une sorte de choc?\n",
    "10. Exploiter les symétries?\n",
    "11. Stabilité!! \n",
    "12. N'y a-t-il pas une durée pendant laquelle le conducteur n'est plus à l'équilibre? Donc E à l'intérieur toujours nul? Pris en compte par Faraday\n",
    "13. Loi de Faraday pendant ce temps? La négliger puisque le changement semble instantané? Déjà prise en compte!"
   ]
  },
  {
   "cell_type": "markdown",
   "metadata": {
    "collapsed": true
   },
   "source": [
    "## Equation de diffusion du champ magnétique"
   ]
  },
  {
   "cell_type": "markdown",
   "metadata": {},
   "source": [
    "En reprenant les équations de Maxwell suivantes, nous pouvons montrer que le champ magnétique $\\mathbf{B}$ obéit à une équation de diffusion. En se rappelant la loi d'Ohm $\\mathbf{J} = \\sigma \\mathbf{E}$,\n",
    "$$\\nabla \\times {\\bf E} = -\\partial_t {\\bf B}\\\\\n",
    "\\nabla \\times {\\bf B} =\\mu {\\bf J}\\\\\n",
    "\\nabla \\cdot {\\bf B}=0\n",
    "$$\n",
    "ensuite en subsituant $\\mathbf{E}$ par $\\dfrac{\\mathbf{J}}{\\sigma}$  puis $\\mathbf{J}$ par $\\dfrac{1}{\\mu} \\nabla \\times {\\bf B}$ dans le première équation, et en sachant que $\\nabla \\times(\\nabla \\times {\\bf B}) = \\nabla (\\nabla \\cdot {\\bf B}) - \\Delta \\mathbf{B} = - \\Delta \\mathbf{B}$, nous obtenons l'équation de diffusion:\n",
    "$$ \\partial_t \\bf{B} - \\dfrac{1}{\\sigma \\mu} \\Delta B = 0$$"
   ]
  },
  {
   "cell_type": "markdown",
   "metadata": {},
   "source": [
    "## Conditions aux bords"
   ]
  },
  {
   "cell_type": "code",
   "execution_count": null,
   "metadata": {
    "collapsed": true
   },
   "outputs": [],
   "source": []
  },
  {
   "cell_type": "markdown",
   "metadata": {},
   "source": [
    "## Evolution au cours du temps - Méthode d'Euler"
   ]
  },
  {
   "cell_type": "code",
   "execution_count": 13,
   "metadata": {
    "collapsed": true
   },
   "outputs": [],
   "source": [
    "import numpy\n",
    "from matplotlib import pyplot\n",
    "%matplotlib inline"
   ]
  },
  {
   "cell_type": "markdown",
   "metadata": {},
   "source": [
    "Il faut implémenter le champ magnétique comme une matrice $2n$ x $2n$; le $2n$ permet de fixer la parité de la matrice. "
   ]
  },
  {
   "cell_type": "code",
   "execution_count": 53,
   "metadata": {},
   "outputs": [
    {
     "data": {
      "text/plain": [
       "array([[  1.26000000e-06,   1.26000000e-06,   1.26000000e-06,\n",
       "          1.26000000e-06,   1.26000000e-06,   1.26000000e-06],\n",
       "       [  0.00000000e+00,   0.00000000e+00,   0.00000000e+00,\n",
       "          0.00000000e+00,   0.00000000e+00,   0.00000000e+00],\n",
       "       [  0.00000000e+00,   0.00000000e+00,   0.00000000e+00,\n",
       "          0.00000000e+00,   0.00000000e+00,   0.00000000e+00],\n",
       "       [  0.00000000e+00,   0.00000000e+00,   0.00000000e+00,\n",
       "          0.00000000e+00,   0.00000000e+00,   0.00000000e+00]])"
      ]
     },
     "execution_count": 53,
     "metadata": {},
     "output_type": "execute_result"
    }
   ],
   "source": [
    "sigma = 5.96*10**7\n",
    "mu = 1.26*10**-6\n",
    "\n",
    "nt = 10\n",
    "nx = 10\n",
    "ny = 10\n",
    "dx = 1\n",
    "dy = 1\n",
    "dt = 1\n",
    "\n",
    "mx = int(nx/3)+1\n",
    "my = int(ny/2)+1\n",
    "\n",
    "B = numpy.zeros((mx,my))\n",
    "B[0,:] = mu*numpy.ones(my)\n",
    "B"
   ]
  },
  {
   "cell_type": "code",
   "execution_count": 57,
   "metadata": {
    "collapsed": true
   },
   "outputs": [],
   "source": [
    "def matrix_extent(B): #rend la sous-diagonale égale à la sur-diagonale\n",
    "    \n",
    "    for k in range(1,mx-1):\n",
    "        B[k,k-1] = B[k-1,k]\n",
    "    return B"
   ]
  },
  {
   "cell_type": "code",
   "execution_count": 58,
   "metadata": {},
   "outputs": [
    {
     "name": "stdout",
     "output_type": "stream",
     "text": [
      "[[  1.26000000e-06   1.26000000e-06   1.26000000e-06   1.26000000e-06\n",
      "    1.26000000e-06   1.26000000e-06]\n",
      " [  1.26000000e-06   0.00000000e+00   0.00000000e+00   0.00000000e+00\n",
      "    0.00000000e+00   0.00000000e+00]\n",
      " [  0.00000000e+00   0.00000000e+00   0.00000000e+00   0.00000000e+00\n",
      "    0.00000000e+00   0.00000000e+00]\n",
      " [  0.00000000e+00   0.00000000e+00   0.00000000e+00   0.00000000e+00\n",
      "    0.00000000e+00   0.00000000e+00]]\n"
     ]
    }
   ],
   "source": [
    "A = matrix_extent(B)\n",
    "print(A)"
   ]
  },
  {
   "cell_type": "code",
   "execution_count": 59,
   "metadata": {
    "collapsed": true
   },
   "outputs": [],
   "source": [
    "def evolution(B, nt, mu,sigma, dt, dx, dy):\n",
    "    \n",
    "    for n in range(nt):\n",
    "        B = matrix_extent(B)\n",
    "        Bn = B\n",
    "        \n",
    "        for j in range(1,my-1):\n",
    "            \n",
    "            for i in range(j,mx-1):\n",
    "                B[i,j] = Bn[i,j] + 1/(mu*sigma)*\\\n",
    "                (dt/dy**2 * (Bn[i+1,j] - 2*Bn[i,j] + Bn[i-1,j]) +\\\n",
    "                 dt/dx**2 * (Bn[i,j+1]- 2*Bn[i,j] + Bn[i,j-1]))\n",
    "    return B"
   ]
  },
  {
   "cell_type": "code",
   "execution_count": 60,
   "metadata": {},
   "outputs": [],
   "source": [
    "Bi = evolution(B, nt, mu,sigma, dt, dx, dy)"
   ]
  },
  {
   "cell_type": "code",
   "execution_count": null,
   "metadata": {
    "collapsed": true
   },
   "outputs": [],
   "source": []
  }
 ],
 "metadata": {
  "kernelspec": {
   "display_name": "Python 3",
   "language": "python",
   "name": "python3"
  },
  "language_info": {
   "codemirror_mode": {
    "name": "ipython",
    "version": 3
   },
   "file_extension": ".py",
   "mimetype": "text/x-python",
   "name": "python",
   "nbconvert_exporter": "python",
   "pygments_lexer": "ipython3",
   "version": "3.6.2"
  }
 },
 "nbformat": 4,
 "nbformat_minor": 2
}
